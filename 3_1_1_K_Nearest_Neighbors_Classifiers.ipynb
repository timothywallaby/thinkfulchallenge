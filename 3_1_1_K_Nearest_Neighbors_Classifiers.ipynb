{
  "nbformat": 4,
  "nbformat_minor": 0,
  "metadata": {
    "colab": {
      "name": "3.1.1 K Nearest Neighbors Classifiers.ipynb",
      "version": "0.3.2",
      "provenance": [],
      "collapsed_sections": [],
      "include_colab_link": true
    },
    "language_info": {
      "codemirror_mode": {
        "name": "ipython",
        "version": 3
      },
      "file_extension": ".py",
      "mimetype": "text/x-python",
      "name": "python",
      "nbconvert_exporter": "python",
      "pygments_lexer": "ipython3",
      "version": "3.7.1"
    },
    "kernelspec": {
      "display_name": "Python 3",
      "language": "python",
      "name": "python3"
    }
  },
  "cells": [
    {
      "cell_type": "markdown",
      "metadata": {
        "id": "view-in-github",
        "colab_type": "text"
      },
      "source": [
        "<a href=\"https://colab.research.google.com/github/timothywallaby/thinkfulchallenge/blob/master/3_1_1_K_Nearest_Neighbors_Classifiers.ipynb\" target=\"_parent\"><img src=\"https://colab.research.google.com/assets/colab-badge.svg\" alt=\"Open In Colab\"/></a>"
      ]
    },
    {
      "cell_type": "code",
      "metadata": {
        "run_control": {
          "frozen": false,
          "read_only": false
        },
        "id": "3DL2ZsKTwv_J",
        "colab_type": "code",
        "colab": {}
      },
      "source": [
        "import numpy as np\n",
        "import pandas as pd\n",
        "import matplotlib.pyplot as plt\n",
        "import scipy\n",
        "%matplotlib inline"
      ],
      "execution_count": 0,
      "outputs": []
    },
    {
      "cell_type": "markdown",
      "metadata": {
        "run_control": {
          "frozen": false,
          "read_only": false
        },
        "id": "2N6MD5JZwv_R",
        "colab_type": "text"
      },
      "source": [
        "# K Nearest Neighbors Classifiers\n",
        "\n",
        "So far we've covered learning via probability (naive Bayes) and learning via errors (regression). Here we'll cover learning via similarity. This means we look for the datapoints that are most similar to the observation we are trying to predict.\n",
        "\n",
        "Let's start by the simplest example: **Nearest Neighbor**.\n",
        "\n",
        "## Nearest Neighbor\n",
        "\n",
        "Let's use this example: classifying a song as either \"rock\" or \"jazz\". For this data we have measures of duration in seconds and loudness in loudness units (we're not going to be using decibels since that isn't a linear measure, which would create some problems we'll get into later)."
      ]
    },
    {
      "cell_type": "code",
      "metadata": {
        "run_control": {
          "frozen": false,
          "read_only": false
        },
        "id": "-GGEB2Qpwv_S",
        "colab_type": "code",
        "outputId": "c1646045-206f-46ad-d592-bc2c36b1b4c3",
        "colab": {
          "base_uri": "https://localhost:8080/",
          "height": 295
        }
      },
      "source": [
        "music = pd.DataFrame()\n",
        "\n",
        "# Some data to play with.\n",
        "music['duration'] = [184, 134, 243, 186, 122, 197, 294, 382, 102, 264, \n",
        "                     205, 110, 307, 110, 397, 153, 190, 192, 210, 403,\n",
        "                     164, 198, 204, 253, 234, 190, 182, 401, 376, 102]\n",
        "music['loudness'] = [18, 34, 43, 36, 22, 9, 29, 22, 10, 24, \n",
        "                     20, 10, 17, 51, 7, 13, 19, 12, 21, 22,\n",
        "                     16, 18, 4, 23, 34, 19, 14, 11, 37, 42]\n",
        "\n",
        "# We know whether the songs in our training data are jazz or not.\n",
        "music['jazz'] = [ 1, 0, 0, 0, 1, 1, 0, 1, 1, 0,\n",
        "                  0, 1, 1, 0, 1, 1, 0, 1, 1, 1,\n",
        "                  1, 1, 1, 1, 0, 0, 1, 1, 0, 0]\n",
        "\n",
        "\n",
        "# Look at our data.\n",
        "plt.scatter(\n",
        "    music[music['jazz'] == 1].duration,\n",
        "    music[music['jazz'] == 1].loudness,\n",
        "    color='red'\n",
        ")\n",
        "plt.scatter(\n",
        "    music[music['jazz'] == 0].duration,\n",
        "    music[music['jazz'] == 0].loudness,\n",
        "    color='blue'\n",
        ")\n",
        "plt.legend(['Jazz', 'Rock'])\n",
        "plt.title('Jazz and Rock Characteristics')\n",
        "plt.xlabel('Duration')\n",
        "plt.ylabel('Loudness')\n",
        "plt.show()"
      ],
      "execution_count": 0,
      "outputs": [
        {
          "output_type": "display_data",
          "data": {
            "image/png": "[encoded data removed]",
            "text/plain": [
              "<Figure size 432x288 with 1 Axes>"
            ]
          },
          "metadata": {
            "tags": []
          }
        }
      ]
    },
    {
      "cell_type": "markdown",
      "metadata": {
        "run_control": {
          "frozen": false,
          "read_only": false
        },
        "id": "lUgzwBjxwv_c",
        "colab_type": "text"
      },
      "source": [
        "The simplest form of a similarity model is the Nearest Neighbor model. This works quite simply: when trying to predict an observation, we find the closest (or _nearest_) known observation in our training data and use that value to make our prediction. Here we'll use the model as a classifier, the outcome of interest will be a category.\n",
        "\n",
        "To find which observation is \"nearest\" we need some kind of way to measure distance. Typically we use _Euclidean distance_, the standard distance measure that you're familiar with from geometry. With one observation in n-dimensions $(x_1, x_2, ...,x_n)$ and the other $(w_1, w_2,...,w_n)$:\n",
        "\n",
        "$$ \\sqrt{(x_1-w_1)^2 + (x_2-w_2)^2+...+(x_n-w_n)^2} $$\n",
        "\n",
        "You might recognize this formula, (taking distances, squaring them, adding the squares together, and taking the root) as a generalization of the [Pythagorean theorem](https://en.wikipedia.org/wiki/Pythagorean_theorem) into n-dimensions. You can technically define any distance measure you want, and there are times where this customization may be valuable. As a general standard, however, we'll use Euclidean distance.\n",
        "\n",
        "Now that we have a distance measure from each point in our training data to the point we're trying to predict the model can find the datapoint with the smallest distance and then apply that category to our prediction.\n",
        "\n",
        "Let's try running this model, using the SKLearn package."
      ]
    },
    {
      "cell_type": "code",
      "metadata": {
        "run_control": {
          "frozen": false,
          "read_only": false
        },
        "id": "nnf64YaUwv_d",
        "colab_type": "code",
        "outputId": "9e83ff2c-35ed-4372-94fa-dfe7a70bc6f9",
        "colab": {
          "base_uri": "https://localhost:8080/",
          "height": 34
        }
      },
      "source": [
        "from sklearn.neighbors import KNeighborsClassifier\n",
        "neighbors = KNeighborsClassifier(n_neighbors=1)\n",
        "X = music[['loudness', 'duration']]\n",
        "Y = music.jazz\n",
        "neighbors.fit(X,Y)\n",
        "\n",
        "## Predict for a song with 24 loudness that's 190 seconds long.\n",
        "neighbors.predict([[24, 190]])"
      ],
      "execution_count": 0,
      "outputs": [
        {
          "output_type": "execute_result",
          "data": {
            "text/plain": [
              "array([0])"
            ]
          },
          "metadata": {
            "tags": []
          },
          "execution_count": 3
        }
      ]
    },
    {
      "cell_type": "markdown",
      "metadata": {
        "run_control": {
          "frozen": false,
          "read_only": false
        },
        "id": "Dsu5B8vtwv_g",
        "colab_type": "text"
      },
      "source": [
        "It's as simple as that. Looks like our model is predicting that 24 loudness, 190 second long song is _not_ jazz. All it takes to train the model is a dataframe of independent variables and a dataframe of dependent outcomes."
      ]
    },
    {
      "cell_type": "markdown",
      "metadata": {
        "run_control": {
          "frozen": false,
          "read_only": false
        },
        "id": "5HcnDKEMwv_h",
        "colab_type": "text"
      },
      "source": [
        "You'll note that for this example, we used the `KNeighborsClassifier` method from SKLearn. This is because Nearest Neighbor is a simplification of K-Nearest Neighbors. The jump, however, isn't that far.\n",
        "\n",
        "1.   List item\n",
        "2.   List item\n",
        "\n",
        "\n",
        "\n",
        "## K-Nearest Neighbors\n",
        "\n",
        "**K-Nearest Neighbors** (or \"**KNN**\") is the logical extension of Nearest Neighbor. Instead of looking at just the single nearest datapoint to predict an outcome, we look at several of the nearest neighbors, with $k$ representing the number of neighbors we choose to look at. Each of the $k$ neighbors gets to vote on what the predicted outcome should be.\n",
        "\n",
        "This does a couple of valuable things. Firstly, it smooths out the predictions. If only one neighbor gets to influence the outcome, the model explicitly overfits to the training data. Any single outlier can create pockets of one category prediction surrounded by a sea of the other category.\n",
        "\n",
        "This also means instead of just predicting classes, we get implicit probabilities. If each of the $k$ neighbors gets a vote on the outcome, then the probability of the test example being from any given class $i$ is:\n",
        "$$ \\frac{votes_i}{k} $$\n",
        "\n",
        "And this applies for all classes present in the training set. Our example only has two classes, but this model can accommodate as many classes as the data set necessitates. To come up with a classifier prediction it simply takes the class for which that fraction is maximized.\n",
        "\n",
        "Let's expand our initial nearest neighbors model from above to a KNN with a $k$ of 5."
      ]
    },
    {
      "cell_type": "code",
      "metadata": {
        "run_control": {
          "frozen": false,
          "read_only": false
        },
        "id": "iyhbUawSwv_h",
        "colab_type": "code",
        "outputId": "ee4303eb-19e5-499a-d659-194725778f68",
        "colab": {
          "base_uri": "https://localhost:8080/",
          "height": 51
        }
      },
      "source": [
        "neighbors = KNeighborsClassifier(n_neighbors=5)\n",
        "X = music[['loudness', 'duration']]\n",
        "Y = music.jazz\n",
        "neighbors.fit(X,Y)\n",
        "\n",
        "## Predict for a 24 loudness, 190 seconds long song.\n",
        "print(neighbors.predict([[24, 190]]))\n",
        "print(neighbors.predict_proba([[24, 190]]))"
      ],
      "execution_count": 0,
      "outputs": [
        {
          "output_type": "stream",
          "text": [
            "[1]\n",
            "[[0.4 0.6]]\n"
          ],
          "name": "stdout"
        }
      ]
    },
    {
      "cell_type": "markdown",
      "metadata": {
        "run_control": {
          "frozen": false,
          "read_only": false
        },
        "id": "hof5n4Wmwv_k",
        "colab_type": "text"
      },
      "source": [
        "Now our test prediction has changed. In using the five nearest neighbors it appears that there were two votes for rock and three for jazz, so it was classified as a jazz song. This is different than our simpler Nearest Neighbors model. While the closest observation was in fact rock, there are more jazz songs in the nearest $k$ neighbors than rock.\n",
        "\n",
        "We can visualize our decision bounds with something called a _mesh_. This allows us to generate a prediction over the whole space. Read the code below and make sure you can pull out what the individual lines do, consulting the documentation for unfamiliar methods if necessary."
      ]
    },
    {
      "cell_type": "code",
      "metadata": {
        "run_control": {
          "frozen": false,
          "read_only": false
        },
        "id": "G-y3umsCwv_k",
        "colab_type": "code",
        "outputId": "0568a207-d533-430c-8621-c41ad07691e4",
        "colab": {
          "base_uri": "https://localhost:8080/",
          "height": 295
        }
      },
      "source": [
        "# Our data. Converting from data frames to arrays for the mesh.\n",
        "X = np.array(X)\n",
        "Y = np.array(Y)\n",
        "\n",
        "# Mesh size.\n",
        "h = 4.0\n",
        "\n",
        "# Plot the decision boundary. We assign a color to each point in the mesh.\n",
        "x_min = X[:, 0].min() - .5\n",
        "x_max = X[:, 0].max() + .5\n",
        "y_min = X[:, 1].min() - .5\n",
        "y_max = X[:, 1].max() + .5\n",
        "xx, yy = np.meshgrid(\n",
        "    np.arange(x_min, x_max, h),\n",
        "    np.arange(y_min, y_max, h)\n",
        ")\n",
        "Z = neighbors.predict(np.c_[xx.ravel(), yy.ravel()])\n",
        "\n",
        "# Put the result into a color plot.\n",
        "Z = Z.reshape(xx.shape)\n",
        "plt.figure(1, figsize=(6, 4))\n",
        "plt.set_cmap(plt.cm.Paired)\n",
        "plt.pcolormesh(xx, yy, Z)\n",
        "\n",
        "# Add the training points to the plot.\n",
        "plt.scatter(X[:, 0], X[:, 1], c=Y)\n",
        "plt.xlabel('Loudness')\n",
        "plt.ylabel('Duration')\n",
        "plt.title('Mesh visualization')\n",
        "\n",
        "plt.xlim(xx.min(), xx.max())\n",
        "plt.ylim(yy.min(), yy.max())\n",
        "\n",
        "plt.show()"
      ],
      "execution_count": 0,
      "outputs": [
        {
          "output_type": "display_data",
          "data": {
            "image/png": "[encoded data removed]",
            "text/plain": [
              "<Figure size 432x288 with 1 Axes>"
            ]
          },
          "metadata": {
            "tags": []
          }
        }
      ]
    },
    {
      "cell_type": "markdown",
      "metadata": {
        "id": "4FHloAIbwv_m",
        "colab_type": "text"
      },
      "source": [
        "Looking at the visualization above, any new point that fell within a blue area would be predicted to be jazz, and any point that fell within a brown area would be predicted to be rock.\n",
        "\n",
        "The boundaries above are strangely jagged here, and we'll get into that in more detail in the next lesson.\n",
        "\n",
        "Also note that the visualization isn't completely continuous. There are an infinite number of points in this space, and we can't calculate the value for each one. That's where the mesh comes in. We set our mesh size (`h = 4.0`) to 4.0 above, which means we calculate the value for each point in a grid where the points are spaced 4.0 away from each other.\n",
        "\n",
        "You can make the mesh size smaller to get a more continuous visualization, but at the cost of a more computationally demanding calculation. In the cell below, recreate the plot above with a mesh size of `10.0`. Then reduce the mesh size until you get a plot that looks good but still renders in a reasonable amount of time. When do you get a visualization that looks acceptably continuous? When do you start to get a noticeable delay?"
      ]
    },
    {
      "cell_type": "code",
      "metadata": {
        "id": "pQ5HyHJywv_n",
        "colab_type": "code",
        "outputId": "fb18b64e-4c0f-4439-f73f-393cf7d78bd3",
        "colab": {
          "base_uri": "https://localhost:8080/",
          "height": 312
        }
      },
      "source": [
        "import time \n",
        "\n",
        "start_time = time.time()\n",
        "\n",
        "\n",
        "# Play with different mesh sizes here.\n",
        "h = .50\n",
        "\n",
        "# Plot the decision boundary. We assign a color to each point in the mesh.\n",
        "x_min = X[:, 0].min() - .5\n",
        "x_max = X[:, 0].max() + .5\n",
        "y_min = X[:, 1].min() - .5\n",
        "y_max = X[:, 1].max() + .5\n",
        "xx, yy = np.meshgrid(\n",
        "    np.arange(x_min, x_max, h),\n",
        "    np.arange(y_min, y_max, h)\n",
        ")\n",
        "Z = neighbors.predict(np.c_[xx.ravel(), yy.ravel()])\n",
        "\n",
        "# Put the result into a color plot.\n",
        "Z = Z.reshape(xx.shape)\n",
        "plt.figure(1, figsize=(6, 4))\n",
        "plt.set_cmap(plt.cm.Paired)\n",
        "plt.pcolormesh(xx, yy, Z)\n",
        "\n",
        "# Add the training points to the plot.\n",
        "plt.scatter(X[:, 0], X[:, 1], c=Y)\n",
        "plt.xlabel('Loudness')\n",
        "plt.ylabel('Duration')\n",
        "plt.title('Mesh visualization')\n",
        "\n",
        "plt.xlim(xx.min(), xx.max())\n",
        "plt.ylim(yy.min(), yy.max())\n",
        "\n",
        "plt.show()\n",
        "\n",
        "print('--- %s seconds ---' % (time.time() - start_time))\n"
      ],
      "execution_count": 0,
      "outputs": [
        {
          "output_type": "display_data",
          "data": {
            "image/png": "[encoded data removed]",
            "text/plain": [
              "<Figure size 432x288 with 1 Axes>"
            ]
          },
          "metadata": {
            "tags": []
          }
        },
        {
          "output_type": "stream",
          "text": [
            "--- 1.643803358078003 seconds ---\n"
          ],
          "name": "stdout"
        }
      ]
    },
    {
      "cell_type": "markdown",
      "metadata": {
        "run_control": {
          "frozen": false,
          "read_only": false
        },
        "id": "kXL5EVyXwv_o",
        "colab_type": "text"
      },
      "source": [
        "Now you've built a KNN model!\n",
        "\n",
        "## Challenge: Implement the Nearest Neighbor algorithm \n",
        "\n",
        "The Nearest Neighbor algorithm is extremely simple. So simple, in fact, that you should be able to build it yourself from scratch using the Python you already know. Code a Nearest Neighbors algorithm that works for two dimensional data. You can use either arrays or dataframes to do this. Test it against the SKLearn package on the music dataset from above to ensure that it's correct. The goal here is to confirm your understanding of the model and continue to practice your Python skills. We're just expecting a brute force method here. After doing this, look up \"ball tree\" methods to see a more performant algorithm design."
      ]
    },
    {
      "cell_type": "code",
      "metadata": {
        "id": "uCWexL4jwv_o",
        "colab_type": "code",
        "colab": {}
      },
      "source": [
        "# Your nearest neighbor algorithm here.\n",
        "\n",
        "# Nearest neighbor is a special case where k=1, this means that the class is assigned to the new data point to whichever is closest to the training data\n",
        "\n",
        "\n",
        "def KNN(X, Y, Xnew):\n",
        "  \n",
        "  import math\n",
        "  \n",
        "  distances = []\n",
        "  feature_distance =[]\n",
        "  \n",
        "  for i in range(len(X)):\n",
        "  \n",
        "    for j in range(len(X[i])):\n",
        "    \n",
        "      feature_distance[i] =+ (X[i][j] - Xnew[j])**2\n",
        "    \n",
        "      distances[i] = math.sqrt(feature_distance)\n",
        "  \n",
        "  smallest_index = np.where(distances == np.amin(distances))\n",
        "  \n",
        "  ynew = Y[smallest_index]\n",
        "  \n",
        "  return ynew\n",
        "  "
      ],
      "execution_count": 0,
      "outputs": []
    },
    {
      "cell_type": "code",
      "metadata": {
        "id": "GCBi9L4Q0X4e",
        "colab_type": "code",
        "outputId": "523256cc-ccfa-4eb6-874a-7befe4c7b135",
        "colab": {
          "base_uri": "https://localhost:8080/",
          "height": 175
        }
      },
      "source": [
        "new = [24, 190]\n",
        "KNN(X, Y, new)"
      ],
      "execution_count": 2,
      "outputs": [
        {
          "output_type": "error",
          "ename": "NameError",
          "evalue": "ignored",
          "traceback": [
            "\u001b[0;31m---------------------------------------------------------------------------\u001b[0m",
            "\u001b[0;31mNameError\u001b[0m                                 Traceback (most recent call last)",
            "\u001b[0;32m<ipython-input-2-54870cc2d613>\u001b[0m in \u001b[0;36m<module>\u001b[0;34m()\u001b[0m\n\u001b[1;32m      1\u001b[0m \u001b[0mnew\u001b[0m \u001b[0;34m=\u001b[0m \u001b[0;34m[\u001b[0m\u001b[0;36m24\u001b[0m\u001b[0;34m,\u001b[0m \u001b[0;36m190\u001b[0m\u001b[0;34m]\u001b[0m\u001b[0;34m\u001b[0m\u001b[0;34m\u001b[0m\u001b[0m\n\u001b[0;32m----> 2\u001b[0;31m \u001b[0mKNN\u001b[0m\u001b[0;34m(\u001b[0m\u001b[0mX\u001b[0m\u001b[0;34m,\u001b[0m \u001b[0mY\u001b[0m\u001b[0;34m,\u001b[0m \u001b[0mnew\u001b[0m\u001b[0;34m)\u001b[0m\u001b[0;34m\u001b[0m\u001b[0;34m\u001b[0m\u001b[0m\n\u001b[0m",
            "\u001b[0;31mNameError\u001b[0m: name 'X' is not defined"
          ]
        }
      ]
    },
    {
      "cell_type": "code",
      "metadata": {
        "id": "ztCusHuQCoX7",
        "colab_type": "code",
        "outputId": "957b797c-8792-4a61-aefb-9c6fab54d439",
        "colab": {
          "base_uri": "https://localhost:8080/",
          "height": 158
        }
      },
      "source": [
        "X"
      ],
      "execution_count": 3,
      "outputs": [
        {
          "output_type": "error",
          "ename": "NameError",
          "evalue": "ignored",
          "traceback": [
            "\u001b[0;31m---------------------------------------------------------------------------\u001b[0m",
            "\u001b[0;31mNameError\u001b[0m                                 Traceback (most recent call last)",
            "\u001b[0;32m<ipython-input-3-b5fec669aca1>\u001b[0m in \u001b[0;36m<module>\u001b[0;34m()\u001b[0m\n\u001b[0;32m----> 1\u001b[0;31m \u001b[0mX\u001b[0m\u001b[0;34m\u001b[0m\u001b[0;34m\u001b[0m\u001b[0m\n\u001b[0m",
            "\u001b[0;31mNameError\u001b[0m: name 'X' is not defined"
          ]
        }
      ]
    },
    {
      "cell_type": "code",
      "metadata": {
        "id": "lw2uZlKfDD-r",
        "colab_type": "code",
        "outputId": "784ea20d-b20c-42b8-beb7-dc2dacc01de8",
        "colab": {
          "base_uri": "https://localhost:8080/",
          "height": 51
        }
      },
      "source": [
        "Y"
      ],
      "execution_count": 0,
      "outputs": [
        {
          "output_type": "execute_result",
          "data": {
            "text/plain": [
              "array([1, 0, 0, 0, 1, 1, 0, 1, 1, 0, 0, 1, 1, 0, 1, 1, 0, 1, 1, 1, 1, 1,\n",
              "       1, 1, 0, 0, 1, 1, 0, 0])"
            ]
          },
          "metadata": {
            "tags": []
          },
          "execution_count": 22
        }
      ]
    },
    {
      "cell_type": "code",
      "metadata": {
        "id": "M1-IlmSFDFmQ",
        "colab_type": "code",
        "outputId": "bd8ad4ce-aa61-468d-ad07-eed3bb71fe91",
        "colab": {
          "base_uri": "https://localhost:8080/",
          "height": 34
        }
      },
      "source": [
        "new"
      ],
      "execution_count": 0,
      "outputs": [
        {
          "output_type": "execute_result",
          "data": {
            "text/plain": [
              "[24, 190]"
            ]
          },
          "metadata": {
            "tags": []
          },
          "execution_count": 23
        }
      ]
    },
    {
      "cell_type": "code",
      "metadata": {
        "id": "jiXLzNt5DJDK",
        "colab_type": "code",
        "colab": {}
      },
      "source": [
        ""
      ],
      "execution_count": 0,
      "outputs": []
    }
  ]
}