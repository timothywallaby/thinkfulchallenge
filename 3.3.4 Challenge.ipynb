{
 "cells": [
  {
   "cell_type": "code",
   "execution_count": 1,
   "metadata": {},
   "outputs": [],
   "source": [
    "import pandas as pd\n",
    "import numpy as np\n",
    "import matplotlib.pyplot as plt"
   ]
  },
  {
   "cell_type": "code",
   "execution_count": 46,
   "metadata": {},
   "outputs": [],
   "source": [
    "df = pd.read_excel(\"table_8_offenses_known_to_law_enforcement_missouri_by_city_2013.xls\", header = 4)"
   ]
  },
  {
   "cell_type": "code",
   "execution_count": 51,
   "metadata": {},
   "outputs": [],
   "source": [
    "df = df.dropna(axis=1, how='all')\n",
    "df = df.dropna()"
   ]
  },
  {
   "cell_type": "code",
   "execution_count": 52,
   "metadata": {},
   "outputs": [
    {
     "data": {
      "text/html": [
       "<div>\n",
       "<style scoped>\n",
       "    .dataframe tbody tr th:only-of-type {\n",
       "        vertical-align: middle;\n",
       "    }\n",
       "\n",
       "    .dataframe tbody tr th {\n",
       "        vertical-align: top;\n",
       "    }\n",
       "\n",
       "    .dataframe thead th {\n",
       "        text-align: right;\n",
       "    }\n",
       "</style>\n",
       "<table border=\"1\" class=\"dataframe\">\n",
       "  <thead>\n",
       "    <tr style=\"text-align: right;\">\n",
       "      <th></th>\n",
       "      <th>City</th>\n",
       "      <th>Population</th>\n",
       "      <th>Violent\n",
       "crime</th>\n",
       "      <th>Murder and\n",
       "nonnegligent\n",
       "manslaughter</th>\n",
       "      <th>Rape\n",
       "(revised\n",
       "definition)1</th>\n",
       "      <th>Robbery</th>\n",
       "      <th>Aggravated\n",
       "assault</th>\n",
       "      <th>Property\n",
       "crime</th>\n",
       "      <th>Burglary</th>\n",
       "      <th>Larceny-\n",
       "theft</th>\n",
       "      <th>Motor\n",
       "vehicle\n",
       "theft</th>\n",
       "      <th>Arson3</th>\n",
       "    </tr>\n",
       "  </thead>\n",
       "  <tbody>\n",
       "    <tr>\n",
       "      <th>0</th>\n",
       "      <td>Adrian</td>\n",
       "      <td>1633.0</td>\n",
       "      <td>3.0</td>\n",
       "      <td>0.0</td>\n",
       "      <td>0.0</td>\n",
       "      <td>0.0</td>\n",
       "      <td>3.0</td>\n",
       "      <td>41.0</td>\n",
       "      <td>11.0</td>\n",
       "      <td>29.0</td>\n",
       "      <td>1.0</td>\n",
       "      <td>0.0</td>\n",
       "    </tr>\n",
       "    <tr>\n",
       "      <th>1</th>\n",
       "      <td>Advance</td>\n",
       "      <td>1341.0</td>\n",
       "      <td>1.0</td>\n",
       "      <td>1.0</td>\n",
       "      <td>0.0</td>\n",
       "      <td>0.0</td>\n",
       "      <td>0.0</td>\n",
       "      <td>21.0</td>\n",
       "      <td>5.0</td>\n",
       "      <td>16.0</td>\n",
       "      <td>0.0</td>\n",
       "      <td>0.0</td>\n",
       "    </tr>\n",
       "    <tr>\n",
       "      <th>2</th>\n",
       "      <td>Anderson</td>\n",
       "      <td>1999.0</td>\n",
       "      <td>14.0</td>\n",
       "      <td>1.0</td>\n",
       "      <td>3.0</td>\n",
       "      <td>0.0</td>\n",
       "      <td>10.0</td>\n",
       "      <td>105.0</td>\n",
       "      <td>31.0</td>\n",
       "      <td>68.0</td>\n",
       "      <td>6.0</td>\n",
       "      <td>1.0</td>\n",
       "    </tr>\n",
       "    <tr>\n",
       "      <th>3</th>\n",
       "      <td>Annapolis</td>\n",
       "      <td>349.0</td>\n",
       "      <td>0.0</td>\n",
       "      <td>0.0</td>\n",
       "      <td>0.0</td>\n",
       "      <td>0.0</td>\n",
       "      <td>0.0</td>\n",
       "      <td>3.0</td>\n",
       "      <td>0.0</td>\n",
       "      <td>2.0</td>\n",
       "      <td>1.0</td>\n",
       "      <td>0.0</td>\n",
       "    </tr>\n",
       "    <tr>\n",
       "      <th>4</th>\n",
       "      <td>Appleton City</td>\n",
       "      <td>1081.0</td>\n",
       "      <td>0.0</td>\n",
       "      <td>0.0</td>\n",
       "      <td>0.0</td>\n",
       "      <td>0.0</td>\n",
       "      <td>0.0</td>\n",
       "      <td>13.0</td>\n",
       "      <td>3.0</td>\n",
       "      <td>9.0</td>\n",
       "      <td>1.0</td>\n",
       "      <td>0.0</td>\n",
       "    </tr>\n",
       "  </tbody>\n",
       "</table>\n",
       "</div>"
      ],
      "text/plain": [
       "            City  Population  Violent\\ncrime  \\\n",
       "0         Adrian      1633.0             3.0   \n",
       "1        Advance      1341.0             1.0   \n",
       "2       Anderson      1999.0            14.0   \n",
       "3      Annapolis       349.0             0.0   \n",
       "4  Appleton City      1081.0             0.0   \n",
       "\n",
       "   Murder and\\nnonnegligent\\nmanslaughter  Rape\\n(revised\\ndefinition)1  \\\n",
       "0                                     0.0                           0.0   \n",
       "1                                     1.0                           0.0   \n",
       "2                                     1.0                           3.0   \n",
       "3                                     0.0                           0.0   \n",
       "4                                     0.0                           0.0   \n",
       "\n",
       "   Robbery  Aggravated\\nassault  Property\\ncrime  Burglary  Larceny-\\ntheft  \\\n",
       "0      0.0                  3.0             41.0      11.0             29.0   \n",
       "1      0.0                  0.0             21.0       5.0             16.0   \n",
       "2      0.0                 10.0            105.0      31.0             68.0   \n",
       "3      0.0                  0.0              3.0       0.0              2.0   \n",
       "4      0.0                  0.0             13.0       3.0              9.0   \n",
       "\n",
       "   Motor\\nvehicle\\ntheft  Arson3  \n",
       "0                    1.0     0.0  \n",
       "1                    0.0     0.0  \n",
       "2                    6.0     1.0  \n",
       "3                    1.0     0.0  \n",
       "4                    1.0     0.0  "
      ]
     },
     "execution_count": 52,
     "metadata": {},
     "output_type": "execute_result"
    }
   ],
   "source": [
    "df.head()"
   ]
  },
  {
   "cell_type": "code",
   "execution_count": 53,
   "metadata": {},
   "outputs": [
    {
     "data": {
      "text/html": [
       "<div>\n",
       "<style scoped>\n",
       "    .dataframe tbody tr th:only-of-type {\n",
       "        vertical-align: middle;\n",
       "    }\n",
       "\n",
       "    .dataframe tbody tr th {\n",
       "        vertical-align: top;\n",
       "    }\n",
       "\n",
       "    .dataframe thead th {\n",
       "        text-align: right;\n",
       "    }\n",
       "</style>\n",
       "<table border=\"1\" class=\"dataframe\">\n",
       "  <thead>\n",
       "    <tr style=\"text-align: right;\">\n",
       "      <th></th>\n",
       "      <th>Population</th>\n",
       "      <th>Violent\n",
       "crime</th>\n",
       "      <th>Murder and\n",
       "nonnegligent\n",
       "manslaughter</th>\n",
       "      <th>Rape\n",
       "(revised\n",
       "definition)1</th>\n",
       "      <th>Robbery</th>\n",
       "      <th>Aggravated\n",
       "assault</th>\n",
       "      <th>Property\n",
       "crime</th>\n",
       "      <th>Burglary</th>\n",
       "      <th>Larceny-\n",
       "theft</th>\n",
       "      <th>Motor\n",
       "vehicle\n",
       "theft</th>\n",
       "      <th>Arson3</th>\n",
       "    </tr>\n",
       "  </thead>\n",
       "  <tbody>\n",
       "    <tr>\n",
       "      <th>count</th>\n",
       "      <td>444.000000</td>\n",
       "      <td>444.000000</td>\n",
       "      <td>444.000000</td>\n",
       "      <td>444.000000</td>\n",
       "      <td>444.000000</td>\n",
       "      <td>444.000000</td>\n",
       "      <td>444.000000</td>\n",
       "      <td>444.000000</td>\n",
       "      <td>444.000000</td>\n",
       "      <td>444.000000</td>\n",
       "      <td>444.000000</td>\n",
       "    </tr>\n",
       "    <tr>\n",
       "      <th>mean</th>\n",
       "      <td>8399.943694</td>\n",
       "      <td>48.045045</td>\n",
       "      <td>0.686937</td>\n",
       "      <td>4.047297</td>\n",
       "      <td>11.479730</td>\n",
       "      <td>31.831081</td>\n",
       "      <td>344.051802</td>\n",
       "      <td>64.423423</td>\n",
       "      <td>249.020270</td>\n",
       "      <td>30.608108</td>\n",
       "      <td>1.736486</td>\n",
       "    </tr>\n",
       "    <tr>\n",
       "      <th>std</th>\n",
       "      <td>30302.121923</td>\n",
       "      <td>380.011397</td>\n",
       "      <td>7.415359</td>\n",
       "      <td>27.767497</td>\n",
       "      <td>106.785885</td>\n",
       "      <td>239.894316</td>\n",
       "      <td>1759.267824</td>\n",
       "      <td>390.729498</td>\n",
       "      <td>1129.756156</td>\n",
       "      <td>265.823232</td>\n",
       "      <td>13.458755</td>\n",
       "    </tr>\n",
       "    <tr>\n",
       "      <th>min</th>\n",
       "      <td>53.000000</td>\n",
       "      <td>0.000000</td>\n",
       "      <td>0.000000</td>\n",
       "      <td>0.000000</td>\n",
       "      <td>0.000000</td>\n",
       "      <td>0.000000</td>\n",
       "      <td>0.000000</td>\n",
       "      <td>0.000000</td>\n",
       "      <td>0.000000</td>\n",
       "      <td>0.000000</td>\n",
       "      <td>0.000000</td>\n",
       "    </tr>\n",
       "    <tr>\n",
       "      <th>25%</th>\n",
       "      <td>835.500000</td>\n",
       "      <td>1.000000</td>\n",
       "      <td>0.000000</td>\n",
       "      <td>0.000000</td>\n",
       "      <td>0.000000</td>\n",
       "      <td>1.000000</td>\n",
       "      <td>11.000000</td>\n",
       "      <td>2.000000</td>\n",
       "      <td>6.000000</td>\n",
       "      <td>0.000000</td>\n",
       "      <td>0.000000</td>\n",
       "    </tr>\n",
       "    <tr>\n",
       "      <th>50%</th>\n",
       "      <td>1987.000000</td>\n",
       "      <td>5.000000</td>\n",
       "      <td>0.000000</td>\n",
       "      <td>0.000000</td>\n",
       "      <td>0.000000</td>\n",
       "      <td>4.000000</td>\n",
       "      <td>41.000000</td>\n",
       "      <td>9.000000</td>\n",
       "      <td>30.500000</td>\n",
       "      <td>2.000000</td>\n",
       "      <td>0.000000</td>\n",
       "    </tr>\n",
       "    <tr>\n",
       "      <th>75%</th>\n",
       "      <td>5798.000000</td>\n",
       "      <td>16.000000</td>\n",
       "      <td>0.000000</td>\n",
       "      <td>1.000000</td>\n",
       "      <td>2.000000</td>\n",
       "      <td>12.250000</td>\n",
       "      <td>181.250000</td>\n",
       "      <td>30.000000</td>\n",
       "      <td>137.750000</td>\n",
       "      <td>8.000000</td>\n",
       "      <td>1.000000</td>\n",
       "    </tr>\n",
       "    <tr>\n",
       "      <th>max</th>\n",
       "      <td>465514.000000</td>\n",
       "      <td>5864.000000</td>\n",
       "      <td>120.000000</td>\n",
       "      <td>377.000000</td>\n",
       "      <td>1662.000000</td>\n",
       "      <td>3726.000000</td>\n",
       "      <td>24648.000000</td>\n",
       "      <td>6412.000000</td>\n",
       "      <td>13949.000000</td>\n",
       "      <td>4287.000000</td>\n",
       "      <td>207.000000</td>\n",
       "    </tr>\n",
       "  </tbody>\n",
       "</table>\n",
       "</div>"
      ],
      "text/plain": [
       "          Population  Violent\\ncrime  Murder and\\nnonnegligent\\nmanslaughter  \\\n",
       "count     444.000000      444.000000                              444.000000   \n",
       "mean     8399.943694       48.045045                                0.686937   \n",
       "std     30302.121923      380.011397                                7.415359   \n",
       "min        53.000000        0.000000                                0.000000   \n",
       "25%       835.500000        1.000000                                0.000000   \n",
       "50%      1987.000000        5.000000                                0.000000   \n",
       "75%      5798.000000       16.000000                                0.000000   \n",
       "max    465514.000000     5864.000000                              120.000000   \n",
       "\n",
       "       Rape\\n(revised\\ndefinition)1      Robbery  Aggravated\\nassault  \\\n",
       "count                    444.000000   444.000000           444.000000   \n",
       "mean                       4.047297    11.479730            31.831081   \n",
       "std                       27.767497   106.785885           239.894316   \n",
       "min                        0.000000     0.000000             0.000000   \n",
       "25%                        0.000000     0.000000             1.000000   \n",
       "50%                        0.000000     0.000000             4.000000   \n",
       "75%                        1.000000     2.000000            12.250000   \n",
       "max                      377.000000  1662.000000          3726.000000   \n",
       "\n",
       "       Property\\ncrime     Burglary  Larceny-\\ntheft  Motor\\nvehicle\\ntheft  \\\n",
       "count       444.000000   444.000000       444.000000             444.000000   \n",
       "mean        344.051802    64.423423       249.020270              30.608108   \n",
       "std        1759.267824   390.729498      1129.756156             265.823232   \n",
       "min           0.000000     0.000000         0.000000               0.000000   \n",
       "25%          11.000000     2.000000         6.000000               0.000000   \n",
       "50%          41.000000     9.000000        30.500000               2.000000   \n",
       "75%         181.250000    30.000000       137.750000               8.000000   \n",
       "max       24648.000000  6412.000000     13949.000000            4287.000000   \n",
       "\n",
       "           Arson3  \n",
       "count  444.000000  \n",
       "mean     1.736486  \n",
       "std     13.458755  \n",
       "min      0.000000  \n",
       "25%      0.000000  \n",
       "50%      0.000000  \n",
       "75%      1.000000  \n",
       "max    207.000000  "
      ]
     },
     "execution_count": 53,
     "metadata": {},
     "output_type": "execute_result"
    }
   ],
   "source": [
    "df.describe()"
   ]
  },
  {
   "cell_type": "code",
   "execution_count": 54,
   "metadata": {},
   "outputs": [
    {
     "name": "stdout",
     "output_type": "stream",
     "text": [
      "<class 'pandas.core.frame.DataFrame'>\n",
      "Int64Index: 444 entries, 0 to 444\n",
      "Data columns (total 12 columns):\n",
      "City                                    444 non-null object\n",
      "Population                              444 non-null float64\n",
      "Violent\n",
      "crime                           444 non-null float64\n",
      "Murder and\n",
      "nonnegligent\n",
      "manslaughter    444 non-null float64\n",
      "Rape\n",
      "(revised\n",
      "definition)1              444 non-null float64\n",
      "Robbery                                 444 non-null float64\n",
      "Aggravated\n",
      "assault                      444 non-null float64\n",
      "Property\n",
      "crime                          444 non-null float64\n",
      "Burglary                                444 non-null float64\n",
      "Larceny-\n",
      "theft                          444 non-null float64\n",
      "Motor\n",
      "vehicle\n",
      "theft                     444 non-null float64\n",
      "Arson3                                  444 non-null float64\n",
      "dtypes: float64(11), object(1)\n",
      "memory usage: 45.1+ KB\n"
     ]
    }
   ],
   "source": [
    "df.info()"
   ]
  },
  {
   "cell_type": "code",
   "execution_count": 55,
   "metadata": {},
   "outputs": [
    {
     "data": {
      "text/plain": [
       "Index(['City', 'Population', 'Violent\\ncrime',\n",
       "       'Murder and\\nnonnegligent\\nmanslaughter',\n",
       "       'Rape\\n(revised\\ndefinition)1', 'Robbery', 'Aggravated\\nassault',\n",
       "       'Property\\ncrime', 'Burglary', 'Larceny-\\ntheft',\n",
       "       'Motor\\nvehicle\\ntheft', 'Arson3'],\n",
       "      dtype='object')"
      ]
     },
     "execution_count": 55,
     "metadata": {},
     "output_type": "execute_result"
    }
   ],
   "source": [
    "df.columns"
   ]
  },
  {
   "cell_type": "code",
   "execution_count": 56,
   "metadata": {},
   "outputs": [],
   "source": [
    "columns = ['city', 'population', 'violentcrime', 'murder', 'rape', 'robbery', 'assault', 'propertycrime', 'burglary', 'theft', 'mvtheft', 'arson']"
   ]
  },
  {
   "cell_type": "code",
   "execution_count": 57,
   "metadata": {},
   "outputs": [],
   "source": [
    "df.columns = columns"
   ]
  },
  {
   "cell_type": "code",
   "execution_count": 58,
   "metadata": {},
   "outputs": [
    {
     "data": {
      "text/plain": [
       "Index(['city', 'population', 'violentcrime', 'murder', 'rape', 'robbery',\n",
       "       'assault', 'propertycrime', 'burglary', 'theft', 'mvtheft', 'arson'],\n",
       "      dtype='object')"
      ]
     },
     "execution_count": 58,
     "metadata": {},
     "output_type": "execute_result"
    }
   ],
   "source": [
    "df.columns"
   ]
  },
  {
   "cell_type": "code",
   "execution_count": 59,
   "metadata": {},
   "outputs": [
    {
     "data": {
      "text/html": [
       "<div>\n",
       "<style scoped>\n",
       "    .dataframe tbody tr th:only-of-type {\n",
       "        vertical-align: middle;\n",
       "    }\n",
       "\n",
       "    .dataframe tbody tr th {\n",
       "        vertical-align: top;\n",
       "    }\n",
       "\n",
       "    .dataframe thead th {\n",
       "        text-align: right;\n",
       "    }\n",
       "</style>\n",
       "<table border=\"1\" class=\"dataframe\">\n",
       "  <thead>\n",
       "    <tr style=\"text-align: right;\">\n",
       "      <th></th>\n",
       "      <th>city</th>\n",
       "      <th>population</th>\n",
       "      <th>violentcrime</th>\n",
       "      <th>murder</th>\n",
       "      <th>rape</th>\n",
       "      <th>robbery</th>\n",
       "      <th>assault</th>\n",
       "      <th>propertycrime</th>\n",
       "      <th>burglary</th>\n",
       "      <th>theft</th>\n",
       "      <th>mvtheft</th>\n",
       "      <th>arson</th>\n",
       "    </tr>\n",
       "  </thead>\n",
       "  <tbody>\n",
       "    <tr>\n",
       "      <th>0</th>\n",
       "      <td>Adrian</td>\n",
       "      <td>1633.0</td>\n",
       "      <td>3.0</td>\n",
       "      <td>0.0</td>\n",
       "      <td>0.0</td>\n",
       "      <td>0.0</td>\n",
       "      <td>3.0</td>\n",
       "      <td>41.0</td>\n",
       "      <td>11.0</td>\n",
       "      <td>29.0</td>\n",
       "      <td>1.0</td>\n",
       "      <td>0.0</td>\n",
       "    </tr>\n",
       "    <tr>\n",
       "      <th>1</th>\n",
       "      <td>Advance</td>\n",
       "      <td>1341.0</td>\n",
       "      <td>1.0</td>\n",
       "      <td>1.0</td>\n",
       "      <td>0.0</td>\n",
       "      <td>0.0</td>\n",
       "      <td>0.0</td>\n",
       "      <td>21.0</td>\n",
       "      <td>5.0</td>\n",
       "      <td>16.0</td>\n",
       "      <td>0.0</td>\n",
       "      <td>0.0</td>\n",
       "    </tr>\n",
       "    <tr>\n",
       "      <th>2</th>\n",
       "      <td>Anderson</td>\n",
       "      <td>1999.0</td>\n",
       "      <td>14.0</td>\n",
       "      <td>1.0</td>\n",
       "      <td>3.0</td>\n",
       "      <td>0.0</td>\n",
       "      <td>10.0</td>\n",
       "      <td>105.0</td>\n",
       "      <td>31.0</td>\n",
       "      <td>68.0</td>\n",
       "      <td>6.0</td>\n",
       "      <td>1.0</td>\n",
       "    </tr>\n",
       "    <tr>\n",
       "      <th>3</th>\n",
       "      <td>Annapolis</td>\n",
       "      <td>349.0</td>\n",
       "      <td>0.0</td>\n",
       "      <td>0.0</td>\n",
       "      <td>0.0</td>\n",
       "      <td>0.0</td>\n",
       "      <td>0.0</td>\n",
       "      <td>3.0</td>\n",
       "      <td>0.0</td>\n",
       "      <td>2.0</td>\n",
       "      <td>1.0</td>\n",
       "      <td>0.0</td>\n",
       "    </tr>\n",
       "    <tr>\n",
       "      <th>4</th>\n",
       "      <td>Appleton City</td>\n",
       "      <td>1081.0</td>\n",
       "      <td>0.0</td>\n",
       "      <td>0.0</td>\n",
       "      <td>0.0</td>\n",
       "      <td>0.0</td>\n",
       "      <td>0.0</td>\n",
       "      <td>13.0</td>\n",
       "      <td>3.0</td>\n",
       "      <td>9.0</td>\n",
       "      <td>1.0</td>\n",
       "      <td>0.0</td>\n",
       "    </tr>\n",
       "  </tbody>\n",
       "</table>\n",
       "</div>"
      ],
      "text/plain": [
       "            city  population  violentcrime  murder  rape  robbery  assault  \\\n",
       "0         Adrian      1633.0           3.0     0.0   0.0      0.0      3.0   \n",
       "1        Advance      1341.0           1.0     1.0   0.0      0.0      0.0   \n",
       "2       Anderson      1999.0          14.0     1.0   3.0      0.0     10.0   \n",
       "3      Annapolis       349.0           0.0     0.0   0.0      0.0      0.0   \n",
       "4  Appleton City      1081.0           0.0     0.0   0.0      0.0      0.0   \n",
       "\n",
       "   propertycrime  burglary  theft  mvtheft  arson  \n",
       "0           41.0      11.0   29.0      1.0    0.0  \n",
       "1           21.0       5.0   16.0      0.0    0.0  \n",
       "2          105.0      31.0   68.0      6.0    1.0  \n",
       "3            3.0       0.0    2.0      1.0    0.0  \n",
       "4           13.0       3.0    9.0      1.0    0.0  "
      ]
     },
     "execution_count": 59,
     "metadata": {},
     "output_type": "execute_result"
    }
   ],
   "source": [
    "df.head()"
   ]
  },
  {
   "cell_type": "code",
   "execution_count": 60,
   "metadata": {},
   "outputs": [],
   "source": [
    "df['violentbinary'] = np.where(df['violentcrime'] >= 1, 1, 0)"
   ]
  },
  {
   "cell_type": "code",
   "execution_count": 61,
   "metadata": {},
   "outputs": [
    {
     "data": {
      "text/html": [
       "<div>\n",
       "<style scoped>\n",
       "    .dataframe tbody tr th:only-of-type {\n",
       "        vertical-align: middle;\n",
       "    }\n",
       "\n",
       "    .dataframe tbody tr th {\n",
       "        vertical-align: top;\n",
       "    }\n",
       "\n",
       "    .dataframe thead th {\n",
       "        text-align: right;\n",
       "    }\n",
       "</style>\n",
       "<table border=\"1\" class=\"dataframe\">\n",
       "  <thead>\n",
       "    <tr style=\"text-align: right;\">\n",
       "      <th></th>\n",
       "      <th>city</th>\n",
       "      <th>population</th>\n",
       "      <th>violentcrime</th>\n",
       "      <th>murder</th>\n",
       "      <th>rape</th>\n",
       "      <th>robbery</th>\n",
       "      <th>assault</th>\n",
       "      <th>propertycrime</th>\n",
       "      <th>burglary</th>\n",
       "      <th>theft</th>\n",
       "      <th>mvtheft</th>\n",
       "      <th>arson</th>\n",
       "      <th>violentbinary</th>\n",
       "    </tr>\n",
       "  </thead>\n",
       "  <tbody>\n",
       "    <tr>\n",
       "      <th>0</th>\n",
       "      <td>Adrian</td>\n",
       "      <td>1633.0</td>\n",
       "      <td>3.0</td>\n",
       "      <td>0.0</td>\n",
       "      <td>0.0</td>\n",
       "      <td>0.0</td>\n",
       "      <td>3.0</td>\n",
       "      <td>41.0</td>\n",
       "      <td>11.0</td>\n",
       "      <td>29.0</td>\n",
       "      <td>1.0</td>\n",
       "      <td>0.0</td>\n",
       "      <td>1</td>\n",
       "    </tr>\n",
       "    <tr>\n",
       "      <th>1</th>\n",
       "      <td>Advance</td>\n",
       "      <td>1341.0</td>\n",
       "      <td>1.0</td>\n",
       "      <td>1.0</td>\n",
       "      <td>0.0</td>\n",
       "      <td>0.0</td>\n",
       "      <td>0.0</td>\n",
       "      <td>21.0</td>\n",
       "      <td>5.0</td>\n",
       "      <td>16.0</td>\n",
       "      <td>0.0</td>\n",
       "      <td>0.0</td>\n",
       "      <td>1</td>\n",
       "    </tr>\n",
       "    <tr>\n",
       "      <th>2</th>\n",
       "      <td>Anderson</td>\n",
       "      <td>1999.0</td>\n",
       "      <td>14.0</td>\n",
       "      <td>1.0</td>\n",
       "      <td>3.0</td>\n",
       "      <td>0.0</td>\n",
       "      <td>10.0</td>\n",
       "      <td>105.0</td>\n",
       "      <td>31.0</td>\n",
       "      <td>68.0</td>\n",
       "      <td>6.0</td>\n",
       "      <td>1.0</td>\n",
       "      <td>1</td>\n",
       "    </tr>\n",
       "    <tr>\n",
       "      <th>3</th>\n",
       "      <td>Annapolis</td>\n",
       "      <td>349.0</td>\n",
       "      <td>0.0</td>\n",
       "      <td>0.0</td>\n",
       "      <td>0.0</td>\n",
       "      <td>0.0</td>\n",
       "      <td>0.0</td>\n",
       "      <td>3.0</td>\n",
       "      <td>0.0</td>\n",
       "      <td>2.0</td>\n",
       "      <td>1.0</td>\n",
       "      <td>0.0</td>\n",
       "      <td>0</td>\n",
       "    </tr>\n",
       "    <tr>\n",
       "      <th>4</th>\n",
       "      <td>Appleton City</td>\n",
       "      <td>1081.0</td>\n",
       "      <td>0.0</td>\n",
       "      <td>0.0</td>\n",
       "      <td>0.0</td>\n",
       "      <td>0.0</td>\n",
       "      <td>0.0</td>\n",
       "      <td>13.0</td>\n",
       "      <td>3.0</td>\n",
       "      <td>9.0</td>\n",
       "      <td>1.0</td>\n",
       "      <td>0.0</td>\n",
       "      <td>0</td>\n",
       "    </tr>\n",
       "  </tbody>\n",
       "</table>\n",
       "</div>"
      ],
      "text/plain": [
       "            city  population  violentcrime  murder  rape  robbery  assault  \\\n",
       "0         Adrian      1633.0           3.0     0.0   0.0      0.0      3.0   \n",
       "1        Advance      1341.0           1.0     1.0   0.0      0.0      0.0   \n",
       "2       Anderson      1999.0          14.0     1.0   3.0      0.0     10.0   \n",
       "3      Annapolis       349.0           0.0     0.0   0.0      0.0      0.0   \n",
       "4  Appleton City      1081.0           0.0     0.0   0.0      0.0      0.0   \n",
       "\n",
       "   propertycrime  burglary  theft  mvtheft  arson  violentbinary  \n",
       "0           41.0      11.0   29.0      1.0    0.0              1  \n",
       "1           21.0       5.0   16.0      0.0    0.0              1  \n",
       "2          105.0      31.0   68.0      6.0    1.0              1  \n",
       "3            3.0       0.0    2.0      1.0    0.0              0  \n",
       "4           13.0       3.0    9.0      1.0    0.0              0  "
      ]
     },
     "execution_count": 61,
     "metadata": {},
     "output_type": "execute_result"
    }
   ],
   "source": [
    "df.head()"
   ]
  },
  {
   "cell_type": "code",
   "execution_count": 63,
   "metadata": {},
   "outputs": [
    {
     "name": "stderr",
     "output_type": "stream",
     "text": [
      "/Users/swang/anaconda3/lib/python3.6/site-packages/sklearn/linear_model/logistic.py:433: FutureWarning: Default solver will be changed to 'lbfgs' in 0.22. Specify a solver to silence this warning.\n",
      "  FutureWarning)\n"
     ]
    }
   ],
   "source": [
    "import statsmodels.api as sm\n",
    "from sklearn.linear_model import LogisticRegression\n",
    "\n",
    "lr = LogisticRegression(C=1e2)\n",
    "y = df['violentbinary']\n",
    "X = df.drop(['city', 'violentcrime', 'violentbinary', 'arson'], 1)\n",
    "\n",
    "# you need to get rid of some nan values\n",
    "\n",
    "# Fit the model.\n",
    "fit = lr.fit(X, y)"
   ]
  },
  {
   "cell_type": "code",
   "execution_count": 64,
   "metadata": {},
   "outputs": [
    {
     "name": "stdout",
     "output_type": "stream",
     "text": [
      "Coefficients are...\n",
      "[[-3.55906446e-05  1.03972122e-01  4.14489714e-01  4.80145806e-01\n",
      "   2.05203639e+00  4.38386546e-03  6.27081471e-02 -6.64534029e-03\n",
      "  -5.16789413e-02]]\n",
      "[-0.95707169]\n"
     ]
    }
   ],
   "source": [
    "print('Coefficients are...')\n",
    "print(fit.coef_)\n",
    "print(fit.intercept_)"
   ]
  },
  {
   "cell_type": "code",
   "execution_count": 65,
   "metadata": {},
   "outputs": [],
   "source": [
    "pred_y_sklearn = lr.predict(X)"
   ]
  },
  {
   "cell_type": "code",
   "execution_count": 66,
   "metadata": {},
   "outputs": [
    {
     "name": "stdout",
     "output_type": "stream",
     "text": [
      "\n",
      " Accuracy by admission status\n",
      "violentbinary   0    1\n",
      "row_0                 \n",
      "0              93    8\n",
      "1               1  342\n"
     ]
    }
   ],
   "source": [
    "print('\\n Accuracy by admission status')\n",
    "print(pd.crosstab(pred_y_sklearn, y))"
   ]
  },
  {
   "cell_type": "code",
   "execution_count": 67,
   "metadata": {},
   "outputs": [
    {
     "name": "stdout",
     "output_type": "stream",
     "text": [
      "\n",
      " Percentage accuracy\n",
      "0.9797297297297297\n"
     ]
    }
   ],
   "source": [
    "print('\\n Percentage accuracy')\n",
    "print(lr.score(X, y))"
   ]
  },
  {
   "cell_type": "markdown",
   "metadata": {},
   "source": [
    "# Now to use Ridge Regression\n",
    "\n",
    "Remember, ridge regression penalizes really big coefficients"
   ]
  },
  {
   "cell_type": "code",
   "execution_count": 88,
   "metadata": {},
   "outputs": [],
   "source": [
    "# choosing 80% training size and 20% testing size\n",
    "trainingsize = int(df.shape[0]*0.8)\n",
    "df2 = df[['population', 'murder', 'rape', 'robbery', 'assault', 'propertycrime', 'burglary', 'theft', 'mvtheft', 'arson', 'violentbinary']]"
   ]
  },
  {
   "cell_type": "code",
   "execution_count": 89,
   "metadata": {},
   "outputs": [],
   "source": [
    "df_test = df2.iloc[trainingsize:, :].copy()\n",
    "df_train = df2.iloc[:trainingsize, :].copy()"
   ]
  },
  {
   "cell_type": "code",
   "execution_count": 90,
   "metadata": {},
   "outputs": [],
   "source": [
    "Y_train = df_train['violentbinary'].values.reshape(-1, 1)\n",
    "X_train = df_train.loc[:, ~(df_train.columns).isin(['population'])]"
   ]
  },
  {
   "cell_type": "code",
   "execution_count": 92,
   "metadata": {},
   "outputs": [
    {
     "data": {
      "text/html": [
       "<div>\n",
       "<style scoped>\n",
       "    .dataframe tbody tr th:only-of-type {\n",
       "        vertical-align: middle;\n",
       "    }\n",
       "\n",
       "    .dataframe tbody tr th {\n",
       "        vertical-align: top;\n",
       "    }\n",
       "\n",
       "    .dataframe thead th {\n",
       "        text-align: right;\n",
       "    }\n",
       "</style>\n",
       "<table border=\"1\" class=\"dataframe\">\n",
       "  <thead>\n",
       "    <tr style=\"text-align: right;\">\n",
       "      <th></th>\n",
       "      <th>population</th>\n",
       "      <th>murder</th>\n",
       "      <th>rape</th>\n",
       "      <th>robbery</th>\n",
       "      <th>assault</th>\n",
       "      <th>propertycrime</th>\n",
       "      <th>burglary</th>\n",
       "      <th>theft</th>\n",
       "      <th>mvtheft</th>\n",
       "      <th>arson</th>\n",
       "      <th>violentbinary</th>\n",
       "    </tr>\n",
       "  </thead>\n",
       "  <tbody>\n",
       "    <tr>\n",
       "      <th>0</th>\n",
       "      <td>1633.0</td>\n",
       "      <td>0.0</td>\n",
       "      <td>0.0</td>\n",
       "      <td>0.0</td>\n",
       "      <td>3.0</td>\n",
       "      <td>41.0</td>\n",
       "      <td>11.0</td>\n",
       "      <td>29.0</td>\n",
       "      <td>1.0</td>\n",
       "      <td>0.0</td>\n",
       "      <td>1</td>\n",
       "    </tr>\n",
       "    <tr>\n",
       "      <th>1</th>\n",
       "      <td>1341.0</td>\n",
       "      <td>1.0</td>\n",
       "      <td>0.0</td>\n",
       "      <td>0.0</td>\n",
       "      <td>0.0</td>\n",
       "      <td>21.0</td>\n",
       "      <td>5.0</td>\n",
       "      <td>16.0</td>\n",
       "      <td>0.0</td>\n",
       "      <td>0.0</td>\n",
       "      <td>1</td>\n",
       "    </tr>\n",
       "    <tr>\n",
       "      <th>2</th>\n",
       "      <td>1999.0</td>\n",
       "      <td>1.0</td>\n",
       "      <td>3.0</td>\n",
       "      <td>0.0</td>\n",
       "      <td>10.0</td>\n",
       "      <td>105.0</td>\n",
       "      <td>31.0</td>\n",
       "      <td>68.0</td>\n",
       "      <td>6.0</td>\n",
       "      <td>1.0</td>\n",
       "      <td>1</td>\n",
       "    </tr>\n",
       "    <tr>\n",
       "      <th>3</th>\n",
       "      <td>349.0</td>\n",
       "      <td>0.0</td>\n",
       "      <td>0.0</td>\n",
       "      <td>0.0</td>\n",
       "      <td>0.0</td>\n",
       "      <td>3.0</td>\n",
       "      <td>0.0</td>\n",
       "      <td>2.0</td>\n",
       "      <td>1.0</td>\n",
       "      <td>0.0</td>\n",
       "      <td>0</td>\n",
       "    </tr>\n",
       "    <tr>\n",
       "      <th>4</th>\n",
       "      <td>1081.0</td>\n",
       "      <td>0.0</td>\n",
       "      <td>0.0</td>\n",
       "      <td>0.0</td>\n",
       "      <td>0.0</td>\n",
       "      <td>13.0</td>\n",
       "      <td>3.0</td>\n",
       "      <td>9.0</td>\n",
       "      <td>1.0</td>\n",
       "      <td>0.0</td>\n",
       "      <td>0</td>\n",
       "    </tr>\n",
       "  </tbody>\n",
       "</table>\n",
       "</div>"
      ],
      "text/plain": [
       "   population  murder  rape  robbery  assault  propertycrime  burglary  theft  \\\n",
       "0      1633.0     0.0   0.0      0.0      3.0           41.0      11.0   29.0   \n",
       "1      1341.0     1.0   0.0      0.0      0.0           21.0       5.0   16.0   \n",
       "2      1999.0     1.0   3.0      0.0     10.0          105.0      31.0   68.0   \n",
       "3       349.0     0.0   0.0      0.0      0.0            3.0       0.0    2.0   \n",
       "4      1081.0     0.0   0.0      0.0      0.0           13.0       3.0    9.0   \n",
       "\n",
       "   mvtheft  arson  violentbinary  \n",
       "0      1.0    0.0              1  \n",
       "1      0.0    0.0              1  \n",
       "2      6.0    1.0              1  \n",
       "3      1.0    0.0              0  \n",
       "4      1.0    0.0              0  "
      ]
     },
     "execution_count": 92,
     "metadata": {},
     "output_type": "execute_result"
    }
   ],
   "source": [
    "df_train.head()"
   ]
  },
  {
   "cell_type": "code",
   "execution_count": 99,
   "metadata": {},
   "outputs": [
    {
     "name": "stdout",
     "output_type": "stream",
     "text": [
      "R2 score value for ridge regression\n",
      "0.9923905125363497\n"
     ]
    }
   ],
   "source": [
    "import math\n",
    "import seaborn as sns\n",
    "import sklearn\n",
    "from sklearn import linear_model\n",
    "from sklearn import preprocessing\n",
    "\n",
    "ridgeregr = linear_model.Ridge(alpha=10, fit_intercept=False)\n",
    "ridgeregr.fit(X_train, Y_train)\n",
    "print(\"R2 score value for ridge regression\")\n",
    "print(ridgeregr.score(X_train, Y_train))"
   ]
  },
  {
   "cell_type": "code",
   "execution_count": 94,
   "metadata": {},
   "outputs": [
    {
     "name": "stdout",
     "output_type": "stream",
     "text": [
      "0.9923905125363497\n"
     ]
    }
   ],
   "source": [
    "Y_test = df_train['violentbinary'].values.reshape(-1, 1)\n",
    "X_test = df_train.loc[:, ~(df_train.columns).isin(['population'])]\n",
    "print(ridgeregr.score(X_test, Y_test))"
   ]
  },
  {
   "cell_type": "markdown",
   "metadata": {},
   "source": [
    "# Use Lasso Regression last\n",
    "\n",
    "Lasso regression penalizes small coefficients by eliminating ones closest to zero"
   ]
  },
  {
   "cell_type": "code",
   "execution_count": 98,
   "metadata": {},
   "outputs": [
    {
     "name": "stdout",
     "output_type": "stream",
     "text": [
      "This is the R2 score value:\n",
      "0.056378702906851874\n"
     ]
    }
   ],
   "source": [
    "lasso = linear_model.Lasso(alpha=0.2)\n",
    "lassfit = lasso.fit(X_train, Y_train)\n",
    "print('This is the R2 score value:')\n",
    "print(lasso.score(X_train, Y_train))"
   ]
  },
  {
   "cell_type": "code",
   "execution_count": 100,
   "metadata": {},
   "outputs": [
    {
     "name": "stdout",
     "output_type": "stream",
     "text": [
      "0.056378702906851874\n"
     ]
    }
   ],
   "source": [
    "print(lasso.score(X_test, Y_test))"
   ]
  },
  {
   "cell_type": "markdown",
   "metadata": {},
   "source": [
    "# Conclusions:\n",
    "Normal regression had a decent accuracy, but ridge regression had even better accuracy.\n",
    "\n",
    "Seems like lasso regression was terrible for this particular dataset. Increasing alpha only makes the prediciton worse. Also, it would not converge with alpha at 0.1\n",
    "\n",
    "Perhaps playing with features would create a better result.\n",
    "1. Scaling?\n",
    "2. Increasing feature magnitude?"
   ]
  },
  {
   "cell_type": "code",
   "execution_count": null,
   "metadata": {},
   "outputs": [],
   "source": []
  }
 ],
 "metadata": {
  "kernelspec": {
   "display_name": "Python 3",
   "language": "python",
   "name": "python3"
  },
  "language_info": {
   "codemirror_mode": {
    "name": "ipython",
    "version": 3
   },
   "file_extension": ".py",
   "mimetype": "text/x-python",
   "name": "python",
   "nbconvert_exporter": "python",
   "pygments_lexer": "ipython3",
   "version": "3.6.8"
  }
 },
 "nbformat": 4,
 "nbformat_minor": 2
}
