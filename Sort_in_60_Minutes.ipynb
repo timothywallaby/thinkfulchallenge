{
  "nbformat": 4,
  "nbformat_minor": 0,
  "metadata": {
    "colab": {
      "name": "Sort in 60 Minutes.ipynb",
      "version": "0.3.2",
      "provenance": [],
      "collapsed_sections": [],
      "include_colab_link": true
    },
    "kernelspec": {
      "name": "python3",
      "display_name": "Python 3"
    }
  },
  "cells": [
    {
      "cell_type": "markdown",
      "metadata": {
        "id": "view-in-github",
        "colab_type": "text"
      },
      "source": [
        "<a href=\"https://colab.research.google.com/github/timothywallaby/thinkfulchallenge/blob/master/Sort_in_60_Minutes.ipynb\" target=\"_parent\"><img src=\"https://colab.research.google.com/assets/colab-badge.svg\" alt=\"Open In Colab\"/></a>"
      ]
    },
    {
      "cell_type": "code",
      "metadata": {
        "id": "xU2JiFrUoJIy",
        "colab_type": "code",
        "colab": {}
      },
      "source": [
        "import time\n",
        "import random\n",
        "\n",
        "# Set seed.\n",
        "random.seed(a=100)\n",
        "\n",
        "# Create our default list.\n",
        "short_list = list(random.sample(range(1000000), 10))\n",
        "long_list = list(random.sample(range(1000000), 10000))"
      ],
      "execution_count": 0,
      "outputs": []
    },
    {
      "cell_type": "markdown",
      "metadata": {
        "id": "lWwDqny_oZNZ",
        "colab_type": "text"
      },
      "source": [
        "## Creating algorithms for sorting\n",
        "\n",
        "short_list and long_list are defined as default random lists. The short one will be used to validate the algorithm. The long list is used to compare computatin times across strategies."
      ]
    },
    {
      "cell_type": "markdown",
      "metadata": {
        "id": "ZpVYqPnro_Le",
        "colab_type": "text"
      },
      "source": [
        "### Insertion Sort\n",
        "\n",
        "Original list (unordered) will be ordered into a new list (ordered). We take elements from the original list and place them into the new one, inserting it in the correct order.\n",
        "\n",
        "How? We do this by placing it in the position ahead of the first element in the new list that is larger than our chosen element. If none are larger then it is added to the end."
      ]
    },
    {
      "cell_type": "code",
      "metadata": {
        "id": "BYLHs9EWoeYu",
        "colab_type": "code",
        "colab": {}
      },
      "source": [
        "def insert_sort(input_list):\n",
        "  \n",
        "  # Duplicate the input to a new list so we keep the original list\n",
        "  new_list = input_list\n",
        "  \n",
        "  # Iterate through the list\n",
        "  for i in range(len(new_list)):\n",
        "    # Assign place to a new variable j\n",
        "    j = i\n",
        "    \n",
        "    # Move through the list as long as the previous position is larger than the current element of the list\n",
        "    while j > 0 and new_list[j-1] > new_list[j]:\n",
        "      \n",
        "      # Swap positions. This ensured higher number is placed in a position above the lower number\n",
        "      new_list[j-1], new_list[j] = new_list[j], new_list[j-1]\n",
        "      \n",
        "      # Reduce j by one (until it is either less than 0, or it is no longer greater than the prior number)\n",
        "      j = j - 1\n",
        "      \n",
        "  return new_list"
      ],
      "execution_count": 0,
      "outputs": []
    },
    {
      "cell_type": "code",
      "metadata": {
        "id": "fdR5PRlPqgWD",
        "colab_type": "code",
        "colab": {
          "base_uri": "https://localhost:8080/",
          "height": 51
        },
        "outputId": "20d59d9f-4430-4ecd-f018-12f147fe8095"
      },
      "source": [
        "# Start timer\n",
        "start_time = time.time()\n",
        "\n",
        "# Run the insertion sort algorithm\n",
        "insert_sort(short_list)\n",
        "\n",
        "# Print the runtime\n",
        "print('--- %s seconds ---' % (time.time() - start_time))\n",
        "print(insert_sort(short_list))"
      ],
      "execution_count": 7,
      "outputs": [
        {
          "output_type": "stream",
          "text": [
            "--- 6.842613220214844e-05 seconds ---\n",
            "[152745, 183236, 366725, 412125, 477025, 481850, 739784, 767514, 808225, 997948]\n"
          ],
          "name": "stdout"
        }
      ]
    },
    {
      "cell_type": "code",
      "metadata": {
        "id": "G8k9-xU-rOlX",
        "colab_type": "code",
        "colab": {
          "base_uri": "https://localhost:8080/",
          "height": 34
        },
        "outputId": "152aff82-5f53-42e8-98bc-ce0dfe6997d9"
      },
      "source": [
        "# Trying it on the long list\n",
        "start_time = time.time()\n",
        "\n",
        "insert_sort(long_list)\n",
        "\n",
        "print('--- %s seconds ---' % (time.time() - start_time))"
      ],
      "execution_count": 8,
      "outputs": [
        {
          "output_type": "stream",
          "text": [
            "--- 8.058194160461426 seconds ---\n"
          ],
          "name": "stdout"
        }
      ]
    },
    {
      "cell_type": "code",
      "metadata": {
        "id": "6rql8GwPrlhe",
        "colab_type": "code",
        "colab": {}
      },
      "source": [
        ""
      ],
      "execution_count": 0,
      "outputs": []
    }
  ]
}